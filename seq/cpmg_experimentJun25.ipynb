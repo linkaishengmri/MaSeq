{
 "cells": [
  {
   "cell_type": "code",
   "execution_count": 1,
   "metadata": {},
   "outputs": [],
   "source": [
    "\n",
    "import os\n",
    "import sys\n",
    "import matplotlib.pyplot as plt\n",
    "\n",
    "# Use os.getcwd() to get the current working directory\n",
    "main_directory = os.getcwd()\n",
    "parent_directory = os.path.dirname(main_directory)\n",
    "parent_directory = os.path.dirname(parent_directory)\n",
    "\n",
    "\n",
    "# Define the subdirectories you want to add to sys.path\n",
    "subdirs = ['MaSeq', 'marcos_client']\n",
    "\n",
    "# Add the subdirectories to sys.path\n",
    "for subdir in subdirs:\n",
    "    full_path = os.path.join(parent_directory, subdir)\n",
    "    sys.path.append(full_path)\n",
    "#******************************************************************************\n"
   ]
  },
  {
   "cell_type": "code",
   "execution_count": 2,
   "metadata": {},
   "outputs": [
    {
     "name": "stderr",
     "output_type": "stream",
     "text": [
      "/home/lks/.local/lib/python3.12/site-packages/sigpy/config.py:27: UserWarning: Importing cupy.cuda.cudnn failed. For more details, see the error stack below:\n",
      "libcudnn.so.8: cannot open shared object file: No such file or directory\n",
      "  warnings.warn(\n",
      "/home/lks/.local/lib/python3.12/site-packages/cupy/_environment.py:445: UserWarning: \n",
      "nccl library could not be loaded.\n",
      "\n",
      "Reason: ImportError (libnccl.so.2: cannot open shared object file: No such file or directory)\n",
      "\n",
      "You can install the library by:\n",
      "  $ python -m cupyx.tools.install_library --library nccl --cuda 12.x\n",
      "\n",
      "  warnings.warn(f'''\n",
      "/home/lks/.local/lib/python3.12/site-packages/tqdm/auto.py:21: TqdmWarning: IProgress not found. Please update jupyter and ipywidgets. See https://ipywidgets.readthedocs.io/en/stable/user_install.html\n",
      "  from .autonotebook import tqdm as notebook_tqdm\n"
     ]
    }
   ],
   "source": [
    "import pypulseq as pp\n",
    "import numpy as np\n",
    "import seq.mriBlankSeq as blankSeq   \n",
    "import configs.units as units\n",
    "import scipy.signal as sig\n",
    "import experiment_multifreq as ex\n",
    "import configs.hw_config_pseq as hw\n",
    "from flocra_pulseq.interpreter_pseq import PseqInterpreter\n",
    "from pypulseq.convert import convert\n",
    "class CPMGPSEQ(blankSeq.MRIBLANKSEQ):\n",
    "    def __init__(self,\n",
    "        seqName='SRT1',\n",
    "        nScans=4,\n",
    "        larmorFreq=10.35595,\n",
    "        rfExFA=90,\n",
    "        rfReFA=180,\n",
    "        rfExTime=20.0,\n",
    "        rfReTime=40.0,\n",
    "        echoSpacing=0.2,\n",
    "        repetitionTime=3000,\n",
    "        nPoints=10,\n",
    "        filterWindowSize=10,\n",
    "        etl=2048,\n",
    "        bandwidth=426.666667,\n",
    "        shimming=[0.0, 0.0, 0.0],\n",
    "        Exphase=[0, 180, 90, 270],\n",
    "        Refphase=[90, 90, 180, 180],\n",
    "        Rxphase=[0, 180, 90, 270],\n",
    "        RxTimeOffset=0,\n",
    "        txChannel=0,\n",
    "        rxChannel=0,\n",
    "        \n",
    "    ):\n",
    "        super(CPMGPSEQ, self).__init__()\n",
    "        # Assign parameters from input arguments\n",
    "        self.output = None\n",
    "        self.expt =  None\n",
    "\n",
    "        self.seqName = seqName\n",
    "        self.nScans = nScans\n",
    "        self.larmorFreq = larmorFreq\n",
    "        self.rfExFA = rfExFA\n",
    "        self.rfReFA = rfReFA\n",
    "        self.rfExTime = rfExTime\n",
    "        self.rfReTime = rfReTime\n",
    "        self.echoSpacing = echoSpacing\n",
    "        self.repetitionTime = repetitionTime\n",
    "        self.nPoints = nPoints\n",
    "        self.filterWindowSize = filterWindowSize\n",
    "        self.etl = etl\n",
    "        self.bandwidth = bandwidth\n",
    "        self.acqTime = None\n",
    "        self.shimming = shimming\n",
    "        self.Exphase = Exphase\n",
    "        self.Refphase = Refphase\n",
    "        self.Rxphase = Rxphase\n",
    "        self.RxTimeOffset = RxTimeOffset\n",
    "        self.txChannel = txChannel\n",
    "        self.rxChannel = rxChannel\n",
    "\n",
    "         \n",
    "        self.addParameter(key='seqName', string='CPMGInfo', val=self.seqName)\n",
    "        self.addParameter(key='nScans', string='Number of scans', val=self.nScans, field='SEQ')\n",
    "        self.addParameter(key='larmorFreq', string='Larmor frequency (MHz)', val=self.larmorFreq, units=units.MHz, field='RF')\n",
    "       \n",
    "        # CPMG params\n",
    "        self.addParameter(key='rfExFA', string='Excitation flip angle (deg)', val=self.rfExFA, field='RF')\n",
    "        self.addParameter(key='rfReFA', string='Refocusing flip angle (deg)', val=self.rfReFA, field='RF')\n",
    "        self.addParameter(key='repetitionTime', string='Repetition time (ms)', val=self.repetitionTime, units=units.ms, field='SEQ')\n",
    "        self.addParameter(key='rfExTime', string='RF excitation time (us)', val=self.rfExTime, units=units.us, field='RF')\n",
    "        self.addParameter(key='rfReTime', string='RF refocusing time (us)', val=self.rfReTime, units=units.us, field='RF')\n",
    "        self.addParameter(key='echoSpacing', string='Echo spacing (ms)', val=self.echoSpacing, units=units.ms, field='SEQ')\n",
    "        self.addParameter(key='nPoints', string='Number of acquired points', val=self.nPoints, field='IM')\n",
    "        self.addParameter(key='filterWindowSize', string='Filter Window Size', val=self.filterWindowSize, field='IM')\n",
    "        self.addParameter(key='etl', string='Echo train length', val=self.etl, field='SEQ')\n",
    "        self.addParameter(key='bandwidth', string='Acquisition Bandwidth (kHz)', val=self.bandwidth, units=units.kHz, field='IM',\n",
    "                          tip=\"The bandwidth of the acquisition (kHz). This value affects resolution and SNR.\")\n",
    "        self.addParameter(key='shimming', string='shimming', val=self.shimming, units=units.sh, field='OTH')\n",
    "        self.addParameter(key='Exphase', string='Ex Phase (deg)', val=self.Exphase, tip='Excitation Phase Cycling', field='RF')\n",
    "        self.addParameter(key='Refphase', string='Ref Phase (deg)', val=self.Refphase, tip='Refocusing Phase Cycling', field='RF')\n",
    "        self.addParameter(key='Rxphase', string='Rx Phase (deg)', val=self.Rxphase, tip='Rx Phase Cycling', field='RF')\n",
    "        self.addParameter(key='RxTimeOffset', string='Rx Time Offset (ms)', val=self.RxTimeOffset, units=units.ms, field='SEQ')\n",
    "        self.addParameter(key='txChannel', string='Tx channel', val=self.txChannel, field='RF')\n",
    "        self.addParameter(key='rxChannel', string='Rx channel', val=self.rxChannel, field='RF')\n",
    "    \n",
    "    def sequenceInfo(self):\n",
    "        pass\n",
    "        \n",
    "    def sequenceTime(self):\n",
    "        return (self.mapVals['repetitionTime'] *1e-3 * self.mapVals['nScans'] / 60)  # minutes\n",
    "\n",
    "    def sequenceAtributes(self):\n",
    "        super().sequenceAtributes()\n",
    "\n",
    "    def sequenceRun(self, plotSeq=0, demo=False, standalone=False):\n",
    "        init_gpa = False\n",
    "        self.demo = demo\n",
    "        self.plotSeq = plotSeq\n",
    "        self.standalone = standalone\n",
    "\n",
    "        max_grad_Hz = convert(from_value=hw.max_grad, from_unit='mT/m', gamma=hw.gammaB, to_unit='Hz/m')\n",
    "        rfExTime_us = int(np.round(self.rfExTime * 1e6))\n",
    "        rfReTime_us = int(np.round(self.rfReTime * 1e6))\n",
    "        assert rfExTime_us in hw.max_cpmg_rf_arr, f\"RF excitation time '{rfExTime_us}' s is not found in the hw_config_pseq file; please search it in search_p90_pseq.\"\n",
    "        assert rfReTime_us in hw.max_cpmg_rf_p180_arr, f\"RF refocusing time '{rfReTime_us}' s is not found in the hw_config_pseq file; please search it in search_p180_pseq.\"\n",
    "        \n",
    "        max_rf_Hz = hw.max_cpmg_rf_arr[rfExTime_us] * 1e-6 * hw.gammaB\n",
    "        rf_ref_correction_coeff = 0.5 * hw.max_cpmg_rf_arr[rfExTime_us] / hw.max_cpmg_rf_p180_arr[rfReTime_us]\n",
    "        self.flo_interpreter = PseqInterpreter(\n",
    "            tx_warmup=10,  # Transmit chain warm-up time (us)\n",
    "            rf_center=hw.larmorFreq * 1e6 ,  # Larmor frequency (Hz)\n",
    "            rf_amp_max=max_rf_Hz,  # Maximum RF amplitude (Hz)\n",
    "            grad_max=max_grad_Hz,  # Maximum gradient amplitude (Hz/m)\n",
    "            grad_t=10,  # Gradient raster time (us)\n",
    "            grad_eff=hw.gradFactor, # gradient coefficient of efficiency\n",
    "            tx_ch = self.txChannel,\n",
    "            rx_ch = self.rxChannel,\n",
    "            add_rx_points = 8,\n",
    "            use_multi_freq=False,\n",
    "        )\n",
    "        assert (self.txChannel == 0 or self.txChannel == 1)\n",
    "        assert (self.rxChannel == 0 or self.rxChannel == 1)\n",
    "        self.rxChName = 'rx0' if (self.rxChannel == 0) else 'rx1'\n",
    "        self.mapVals['rxChName'] = 'rx0'\n",
    "\n",
    "        self.system = pp.Opts(\n",
    "            rf_dead_time=10 * 1e-6,  # Dead time between RF pulses (s)\n",
    "            rf_ringdown_time= 10 * 1e-6,\n",
    "            max_grad=30,  # Maximum gradient strength (mT/m)\n",
    "            grad_unit='mT/m',  # Units of gradient strength\n",
    "            max_slew=hw.max_slew_rate,  # Maximum gradient slew rate (mT/m/ms)\n",
    "            slew_unit='mT/m/ms',  # Units of gradient slew rate\n",
    "            grad_raster_time=hw.grad_raster_time,  # Gradient raster time (s)\n",
    "            rise_time=hw.grad_rise_time,  # Gradient rise time (s)\n",
    "            rf_raster_time=0.25e-6,\n",
    "            block_duration_raster=0.25e-6,\n",
    "            adc_raster_time=1/(122.88e6)\n",
    "        )\n",
    "\n",
    "        bw = self.bandwidth * 1e-6 # MHz\n",
    "        bw_ov = bw\n",
    "        sampling_period = 1 / bw_ov  # us, Dwell time\n",
    "\n",
    "        if not self.demo:\n",
    "            expt = ex.Experiment(\n",
    "                lo_freq=hw.larmorFreq,  # Larmor frequency in MHz\n",
    "                rx_t=sampling_period,  # Sampling time in us\n",
    "                init_gpa=False,  # Whether to initialize GPA board (False for True)\n",
    "                gpa_fhdo_offset_time=(1 / 0.2 / 3.1),  # GPA offset time calculation\n",
    "                auto_leds=True  # Automatic control of LEDs (False or True)\n",
    "            )\n",
    "            sampling_period = expt.get_rx_ts()[0]  # us\n",
    "            bw = 1 / sampling_period # / hw.oversamplingFactor  # MHz\n",
    "            print(\"Acquisition bandwidth fixed to: %0.3f kHz\" % (bw * 1e3))\n",
    "            expt.__del__()\n",
    "        self.mapVals['bw_MHz'] = bw\n",
    "        self.mapVals['sampling_period_us'] = sampling_period\n",
    "        self.mapVals['acqTime'] = self.nPoints / bw * 1e-3 # ms\n",
    "\n",
    "        readout_duration = sampling_period * 1e-6 * self.nPoints\n",
    "\n",
    "        readout_duration_rounded = np.ceil(sampling_period * self.nPoints * 4) / 4 * 1e-6\n",
    "        if not self.demo:\n",
    "            print(f'dwell time: {sampling_period} us, readout time: {readout_duration} s')\n",
    "        \n",
    "        RealExphase = np.tile(self.Exphase, int(np.ceil(self.nScans / len(self.Exphase))))\n",
    "        RealRefphase = np.tile(self.Refphase, int(np.ceil(self.nScans / len(self.Refphase))))\n",
    "        RealRxphase = np.tile(self.Rxphase, int(np.ceil(self.nScans / len(self.Rxphase))))\n",
    "        \n",
    "\n",
    "        rf_ex = pp.make_block_pulse(\n",
    "            flip_angle=self.rfExFA * np.pi / 180,\n",
    "            duration=self.rfExTime,\n",
    "            system=self.system,\n",
    "            phase_offset=RealExphase[0] * np.pi / 180,\n",
    "            delay=0,\n",
    "        )\n",
    "        rf_ref = pp.make_block_pulse(\n",
    "            flip_angle=self.rfReFA * np.pi / 180,\n",
    "            duration=self.rfReTime,\n",
    "            system=self.system,\n",
    "            phase_offset=RealRefphase[0] * np.pi / 180,\n",
    "            delay=0,\n",
    "        )\n",
    "        \n",
    "        # correct p180:\n",
    "        rf_ref.signal = rf_ref_correction_coeff * rf_ref.signal \n",
    "\n",
    "        adc = pp.make_adc(num_samples=self.nPoints, duration=readout_duration) \n",
    "        delay_te1 = np.round((0.5 * (self.echoSpacing - self.rfExTime - self.rfReTime) - (self.system.rf_dead_time+self.system.rf_ringdown_time))\n",
    "                              / self.system.block_duration_raster) * self.system.block_duration_raster   \n",
    "        delay_te2 = np.round((0.5 * (self.echoSpacing - self.rfReTime - readout_duration_rounded) - self.system.rf_ringdown_time)\n",
    "                              / self.system.block_duration_raster) * self.system.block_duration_raster\n",
    "        delay_te3 = np.round((0.5 * (self.echoSpacing - self.rfReTime - readout_duration_rounded) - self.system.rf_dead_time) \n",
    "                              / self.system.block_duration_raster) * self.system.block_duration_raster\n",
    "        delay_te2_with_offset = np.round((delay_te2 + self.RxTimeOffset) / self.system.block_duration_raster) * self.system.block_duration_raster\n",
    "        delay_te3_with_offset = np.round((delay_te3 - self.RxTimeOffset) / self.system.block_duration_raster) * self.system.block_duration_raster\n",
    "        \n",
    "        recovery_time = self.repetitionTime - 0.5*(self.rfExTime+self.echoSpacing) - self.etl * self.echoSpacing\n",
    "        # Assertions to check if times are greater than zero\n",
    "        assert delay_te1 > 0, f\"Error: delay_te1 is non-positive: {delay_te1}\"\n",
    "        assert recovery_time > 0, f\"Error: recovery_time is non-positive: {recovery_time}\"\n",
    "        \n",
    "        if self.etl == 1: # for debuging\n",
    "            delay_te2 = 10e-6 \n",
    "            delay_te3 = 10e-6 \n",
    "            delay_te2_with_offset = delay_te2\n",
    "            delay_te3_with_offset = delay_te3\n",
    "        else:\n",
    "            assert delay_te2 > 0, f\"Error: delay_te2 is non-positive: {delay_te2}\"\n",
    "            assert delay_te3 > 0, f\"Error: delay_te3 is non-positive: {delay_te3}\"\n",
    "            assert delay_te2_with_offset > 0, f\"Error: delay_te2_with_offset is non-positive: {delay_te2_with_offset}\"\n",
    "            assert delay_te3_with_offset > 0, f\"Error: delay_te3_with_offset is non-positive: {delay_te3_with_offset}\"\n",
    "        \n",
    "        acq_points = 0\n",
    "        seq = pp.Sequence(system=self.system)\n",
    "        for scan in range(self.nScans):\n",
    "            # Phase Cycling\n",
    "            rf_ex.phase_offset = RealExphase[scan] * np.pi / 180\n",
    "            adc.phase_offset = RealRxphase[scan] * np.pi / 180\n",
    "            rf_ref.phase_offset = RealRefphase[scan] * np.pi / 180\n",
    "\n",
    "            # Excitation pulse\n",
    "            seq.add_block(pp.make_delay(0.00025))\n",
    "            seq.add_block(rf_ex)\n",
    "            seq.add_block(pp.make_delay(delay_te1))\n",
    "            # Echo train\n",
    "            for echoIndex in range(self.etl):\n",
    "                seq.add_block(rf_ref)\n",
    "                seq.add_block(pp.make_delay(delay_te2_with_offset))\n",
    "                seq.add_block(adc, pp.make_delay(readout_duration_rounded))\n",
    "                seq.add_block(pp.make_delay(delay_te3_with_offset))\n",
    "                acq_points += self.nPoints\n",
    "            if not scan == self.nScans-1: \n",
    "                seq.add_block(pp.make_delay(recovery_time))\n",
    "\n",
    "        if plotSeq:\n",
    "            # Check whether the timing of the sequence is correct\n",
    "            ok, error_report = seq.check_timing()\n",
    "            if ok:\n",
    "                print(\"Timing check passed successfully\")\n",
    "            else:\n",
    "                print(\"Timing check failed. Error listing follows:\")\n",
    "                [print(e) for e in error_report]   \n",
    "\n",
    "            seq.plot(show_blocks =False)\n",
    "\n",
    "        seq.set_definition(key=\"Name\", value=\"cpmg\")\n",
    "        seq.write(\"cpmg.seq\")\n",
    "        self.waveforms, param_dict = self.flo_interpreter.interpret(\"cpmg.seq\")\n",
    "         \n",
    "        larmorFreq = self.mapVals['larmorFreq']\n",
    "        if not self.demo:\n",
    "            self.expt = ex.Experiment(\n",
    "                lo_freq=(self.larmorFreq + 0) * 1e-6,  # Larmor frequency in MHz\n",
    "                rx_t= sampling_period,\n",
    "                init_gpa=False,  # Whether to initialize GPA board (False for now)\n",
    "                gpa_fhdo_offset_time=(1 / 0.2 / 3.1),  # GPA offset time calculation\n",
    "                auto_leds=True  # Automatic control of LEDs\n",
    "            )\n",
    "        print(f\"Center frequecy set: {(self.larmorFreq + 0) * 1e-6} MHz\")\n",
    "        # Convert the PyPulseq waveform to the Red Pitaya compatible format\n",
    "        self.pypulseq2mriblankseqV2(waveforms=self.waveforms, shimming=self.shimming)\n",
    "        \n",
    "        # Load the waveforms into Red Pitaya\n",
    "        if not self.floDict2Exp_ms():\n",
    "            print(\"ERROR: Sequence waveforms out of hardware bounds\")\n",
    "            return False\n",
    "        else:\n",
    "            encoding_ok = True\n",
    "            # print(\"Sequence waveforms loaded successfully\")\n",
    "\n",
    "        if self.plotSeq and self.standalone:\n",
    "            # Plot the sequence if requested and return immediately\n",
    "            self.expt.plot_sequence()\n",
    "            self.sequencePlot(standalone=self.standalone)\n",
    "            \n",
    "        data_over = []\n",
    "         \n",
    "        # If not plotting the sequence, start scanning\n",
    "        if not self.plotSeq:\n",
    "            # for scan in range(self.nScans):\n",
    "            if True:\n",
    "                print(f\"Scan running...\")\n",
    "                acquired_points = 0\n",
    "                expected_points = self.nPoints * self.etl * self.nScans  # Expected number of points\n",
    "\n",
    "                # Continue acquiring points until we reach the expected number\n",
    "                while acquired_points != expected_points:\n",
    "                    if not self.demo:\n",
    "                        rxd, msgs = self.expt.run()  # Run the experiment and collect data\n",
    "                    else:\n",
    "                        # In demo mode, generate random data as a placeholder\n",
    "                        rxd = {self.rxChName: np.random.randn(expected_points + self.flo_interpreter.get_add_rx_points()) + 1j * np.random.randn(expected_points + + self.flo_interpreter.get_add_rx_points())}\n",
    "                    # Update acquired points\n",
    "                    rx_raw_data = rxd[self.rxChName]\n",
    "                    add_rx_points = self.flo_interpreter.get_add_rx_points()\n",
    "                    before_delete = np.reshape(rx_raw_data, newshape=(self.etl * self.nScans, -1))\n",
    "                    rxdataremove = before_delete[:, add_rx_points:]\n",
    "                    rxdata = np.reshape(rxdataremove, newshape=(-1))\n",
    "                    acquired_points = np.size(rxdata)\n",
    "\n",
    "\n",
    "                    # Check if acquired points coincide with expected points\n",
    "                    if acquired_points != expected_points:\n",
    "                        print(\"WARNING: data apoints lost!\")\n",
    "                        print(\"Repeating batch...\")\n",
    "\n",
    "                # Concatenate acquired data into the oversampled data array\n",
    "                data_over = np.concatenate((data_over, rxdata), axis=0)\n",
    "                print(f\"Acquired points = {acquired_points}, Expected points = {expected_points}\")\n",
    "                print(f\"Scan ready!\")\n",
    "                # plt.plot(data_over)\n",
    "                # plt.show()\n",
    "            # Decimate the oversampled data and store it\n",
    "            self.mapVals['data_over'] = data_over\n",
    "\n",
    "            # Average data\n",
    "            # data = np.average(np.reshape(data_over, (self.nScans, -1)), axis=0)\n",
    "            self.mapVals['data'] = data_over\n",
    "\n",
    "        \n",
    "\n",
    "        if not self.demo:\n",
    "            self.expt.__del__()\n",
    "\n",
    "        self.mapVals['n_readouts'] = self.nPoints\n",
    "        return True\n",
    "\n",
    "        \n",
    "\n",
    "\n",
    "    def sequenceAnalysis(self, mode=None):\n",
    "        \n",
    "        def getFHWM(s,f_vector,bw):\n",
    "            target = np.max(s) / 2\n",
    "            p0 = np.argmax(s)\n",
    "            f0 = f_vector[p0]\n",
    "            s1 = np.abs(s[0:p0]-target)\n",
    "            f1 = f_vector[np.argmin(s1)]\n",
    "            s2 = np.abs(s[p0::]-target)\n",
    "            f2 = f_vector[np.argmin(s2)+p0]\n",
    "            return f2-f1\n",
    "\n",
    "        self.mode = mode\n",
    "        # Signal and spectrum from 'fir' and decimation\n",
    "\n",
    "\n",
    "        # [TODO]: Add Rx phase here\n",
    "        if True:\n",
    "            rawdata = self.mapVals['data']\n",
    "            chName = self.mapVals['rxChName']\n",
    "            expiangle = self.flo_interpreter.get_rx_phase_dict()[chName]\n",
    "            raw_data_reshape = np.reshape(rawdata, newshape=(-1, self.mapVals['nPoints']))\n",
    "            \n",
    "            for line in range(raw_data_reshape.shape[0]):\n",
    "                raw_data_reshape[line, :] = raw_data_reshape[line, :] * expiangle[line]\n",
    "            signal = np.reshape(raw_data_reshape, -1)\n",
    "        else: \n",
    "            signal = self.mapVals['data']\n",
    "\n",
    "\n",
    "        # Average data\n",
    "        signal = np.average(np.reshape(signal, (self.nScans, -1)), axis=0)\n",
    "\n",
    "          \n",
    "        # average filter\n",
    "        bw = self.mapVals['bw_MHz']*1e3 # kHz\n",
    "        nPoints = self.mapVals['nScans'] * self.mapVals['nPoints'] * self.mapVals['etl']\n",
    "        deadTime = 0 #self.mapVals['deadTime']*1e-3 # ms\n",
    "        rfRectExTime = self.mapVals['rfExTime']*1e-3 # ms\n",
    "        \n",
    "\n",
    "        def create_tVector(bw, nPoint, echoSpacing, etl, RFinterval = False):\n",
    "            point_interval = 1 / bw\n",
    "            # window_duration = nPoint * point_interval\n",
    "            start_times = np.arange(0, etl * echoSpacing, echoSpacing)\n",
    "            if RFinterval:\n",
    "                tVector = np.concatenate([start_time + np.arange(nPoint) * point_interval for start_time in start_times])\n",
    "            else:\n",
    "                tVector = np.reshape([np.arange(nPoint * etl) * point_interval], newshape=(-1))\n",
    "            return tVector\n",
    "\n",
    "        #tVector = np.linspace(rfRectExTime/2 + deadTime + 0.5/bw, rfRectExTime/2 + deadTime + (nPoints-0.5)/bw, nPoints)\n",
    "        tVector = create_tVector(bw * 1e3, self.mapVals['nPoints'], self.mapVals['echoSpacing'], self.mapVals['etl'])\n",
    "        tVecRes = np.reshape(tVector, newshape=(-1, self.mapVals['nPoints']))\n",
    "        \n",
    "        fir_coefficients = np.ones(self.mapVals['filterWindowSize']) / self.mapVals['filterWindowSize']\n",
    "        num_taps = len(fir_coefficients)\n",
    "        signal_waiting_for_filters = np.reshape(signal, newshape=(-1, self.mapVals['nPoints']))\n",
    "        output_length = signal_waiting_for_filters.shape[1] - num_taps + 1\n",
    "        filtered = np.zeros((signal_waiting_for_filters.shape[0], output_length), dtype=complex)\n",
    "        filtered_time = np.zeros((signal_waiting_for_filters.shape[0], output_length))\n",
    "        \n",
    "        for i in range(signal_waiting_for_filters.shape[0]):\n",
    "            real_filtered = np.convolve(signal_waiting_for_filters[i].real, fir_coefficients, mode='valid')\n",
    "            imag_filtered = np.convolve(signal_waiting_for_filters[i].imag, fir_coefficients, mode='valid')\n",
    "            filtered[i] = real_filtered + 1j * imag_filtered\n",
    "            filtered_time[i] = tVecRes[i, num_taps - 1:] \n",
    "        filtered_signal = np.reshape(filtered, newshape=(-1))\n",
    "        # filtered_time_vector = np.reshape(filtered_time, newshape=(-1))\n",
    "        \n",
    "        filtered_time_vector = np.arange(0, self.mapVals['etl'] * self.mapVals['echoSpacing'], self.mapVals['echoSpacing'])\n",
    "\n",
    "        fVector = np.linspace(-bw/2, bw/2, nPoints)\n",
    "        spectrum = np.abs(np.fft.ifftshift(np.fft.ifftn(np.fft.ifftshift(signal))))\n",
    "        fitedLarmor=self.mapVals['larmorFreq'] - fVector[np.argmax(np.abs(spectrum))] * 1e-3  #MHz\n",
    "        # hw.larmorFreq=fitedLarmor\n",
    "        # print(f\"self{self.larmorFreq}, map{self.mapVals['larmorFreq'] }, fv{fVector[np.argmax(np.abs(spectrum))]},fit larmor{fitedLarmor}\")\n",
    "        fwhm=getFHWM(spectrum, fVector, bw)\n",
    "        dB0=fwhm*1e6/fitedLarmor\n",
    "\n",
    "\n",
    "        # t_filtered = tVector[:filtered_signal.shape[0]]\n",
    "\n",
    "        # for sequence in self.sequenceList.values():\n",
    "        #     if 'larmorFreq' in sequence.mapVals:\n",
    "        #         sequence.mapVals['larmorFreq'] = hw.larmorFreq\n",
    "        self.mapVals['larmorFreq'] = fitedLarmor\n",
    "\n",
    "        # Get the central frequency\n",
    "        print('Larmor frequency: %1.5f MHz' % fitedLarmor)\n",
    "        print('FHWM: %1.5f kHz' % fwhm)\n",
    "        print('dB0/B0: %1.5f ppm' % dB0)\n",
    "\n",
    "        self.mapVals['signalVStime'] = [tVector, signal]\n",
    "        self.mapVals['spectrum'] = [fVector, spectrum]\n",
    "        self.mapVals['FiltersignalVStime'] = [filtered_time_vector, filtered_signal]\n",
    "        # Add time signal to the layout\n",
    "        result1 = {'widget': 'curve',\n",
    "                   'xData': tVector,\n",
    "                   'yData': [np.abs(signal), np.real(signal), np.imag(signal)],\n",
    "                   'xLabel': 'Time (ms)',\n",
    "                   'yLabel': 'Signal amplitude',\n",
    "                   'title': 'Signal vs time',\n",
    "                   'legend': ['abs', 'real', 'imag'],\n",
    "                   'row': 0,\n",
    "                   'col': 0}\n",
    "\n",
    "        # # Add frequency spectrum to the layout\n",
    "        # result2 = {'widget': 'curve',\n",
    "        #            'xData': tVector,#fVector,\n",
    "        #            'yData': [np.angle(signal)], #[spectrum],\n",
    "        #            'xLabel': 'Time (ms)',\n",
    "        #            'yLabel': 'Angle (rad)',\n",
    "        #            'title': 'Angle',\n",
    "        #            'legend': [''],\n",
    "        #            'row': 1,\n",
    "        #            'col': 0}\n",
    "        \n",
    "        result2 = {'widget': 'curve',\n",
    "                   'xData': filtered_time_vector,\n",
    "                   'yData': [np.abs(filtered_signal), np.real(filtered_signal), np.imag(filtered_signal)],\n",
    "                   'xLabel': 'Time (ms)',\n",
    "                   'yLabel': 'Filtered signal amplitude',\n",
    "                   'title': 'Signal vs time',\n",
    "                   'legend': ['abs', 'real', 'imag'],\n",
    "                   'row': 1,\n",
    "                   'col': 0}\n",
    "\n",
    "        # create self.out to run in iterative mode\n",
    "        self.output = [result1, result2]\n",
    "        self.saveRawData()\n",
    "\n",
    "        if self.mode == 'Standalone':\n",
    "            self.plotResults()\n",
    "        return self.output\n",
    "    \n",
    "   \n",
    " \n"
   ]
  },
  {
   "cell_type": "code",
   "execution_count": 3,
   "metadata": {},
   "outputs": [],
   "source": [
    "def display_plot(FiltersignalVStime):\n",
    "    from flintpy.flintpy import Flint, FlintSignal\n",
    "    signal_decay = np.abs(FiltersignalVStime[1])\n",
    "    time_axis = FiltersignalVStime[0] * 1e-3\n",
    "    signal = FlintSignal.load_from_data(signal_decay, time_axis, None)\n",
    "    flint = Flint(\n",
    "        signal, kernel_shape=[1000, 1], kernel_name=\"T2\", alpha=1e-1, t1range=[1e-6, 1e1], t2range=[1e-6, 1e1]\n",
    "    )\n",
    "    flint.solve_flint()\n",
    "\n",
    "    # Generate and capture the Plotly figure from flint.plot()\n",
    "    fig = flint.plot()\n",
    "    print()\n",
    "    fig.update_layout(\n",
    "        xaxis=dict(\n",
    "            tickvals=[1e-6, 1e-5, 1e-4, 1e-3, 1e-2, 1e-1, 1e0, 1e1]\n",
    "        )\n",
    "    )\n",
    "    # Display the updated plot\n",
    "    fig.show()\n",
    "    plt.show()\n",
    "    # plot FilterSingal point-line with grid and labels\n",
    "    plt.figure(figsize=(12, 6))\n",
    "    plt.plot(FiltersignalVStime[0], np.abs(FiltersignalVStime[1]), marker='o')\n",
    "    plt.grid(True)\n",
    "    plt.title('Filtered Signal')\n",
    "    plt.xlabel('Time (s)')\n",
    "    plt.ylabel('Amplitude')"
   ]
  },
  {
   "cell_type": "code",
   "execution_count": 4,
   "metadata": {},
   "outputs": [
    {
     "name": "stdout",
     "output_type": "stream",
     "text": [
      "seq total time: 0.0 min 12.0 seconds\n",
      "Acquisition bandwidth fixed to: 426.667 kHz\n",
      "dwell time: 2.34375 us, readout time: 1.1718749999999999e-05 s\n",
      "read 5 definitions, 1615 blocks, 4 shapes, 4 adc events, 6 rf events, 0 gradient shapes\n",
      "Center frequecy set: 10.33358 MHz\n",
      "Scan running...\n"
     ]
    },
    {
     "name": "stderr",
     "output_type": "stream",
     "text": [
      "/home/lks/MaSeq_pack/marcos_client/experiment.py:229: UserWarning: Unknown marga experiment dictionary key: lo0_freq_offset\n",
      "  warnings.warn(\"Unknown marga experiment dictionary key: \" + key)\n",
      "/home/lks/MaSeq_pack/marcos_client/experiment.py:229: UserWarning: Unknown marga experiment dictionary key: lo1_freq_offset\n",
      "  warnings.warn(\"Unknown marga experiment dictionary key: \" + key)\n",
      "/home/lks/MaSeq_pack/marcos_client/experiment.py:229: UserWarning: Unknown marga experiment dictionary key: lo0_rst\n",
      "  warnings.warn(\"Unknown marga experiment dictionary key: \" + key)\n",
      "/home/lks/MaSeq_pack/marcos_client/experiment.py:229: UserWarning: Unknown marga experiment dictionary key: lo1_rst\n",
      "  warnings.warn(\"Unknown marga experiment dictionary key: \" + key)\n",
      "/home/lks/MaSeq_pack/marcos_client/marcompile.py:245: MarGradWarning: Gradient updates are too frequent for selected SPI divider. Missed samples are likely!\n",
      "  warnings.warn(\"Gradient updates are too frequent for selected SPI divider. Missed samples are likely!\", MarGradWarning)\n"
     ]
    },
    {
     "name": "stdout",
     "output_type": "stream",
     "text": [
      "Acquired points = 2000, Expected points = 2000\n",
      "Scan ready!\n",
      "Larmor frequency: 10.49355 MHz\n",
      "FHWM: 3.84192 kHz\n",
      "dB0/B0: 366122.02210 ppm\n",
      "Moved: raw_data_20250624_105611 to experiments/acquisitions/2025.06.24\n"
     ]
    },
    {
     "name": "stderr",
     "output_type": "stream",
     "text": [
      "/home/lks/MaSeq_pack/marcos_client/server_comms.py:86: MarServerWarning: ocra1 data was lost (overwritten before being sent)\n",
      "  warnings.warn(k, MarServerWarning)\n"
     ]
    },
    {
     "data": {
      "image/png": "[encoded data removed]",
      "text/plain": [
       "<Figure size 1000x500 with 2 Axes>"
      ]
     },
     "metadata": {},
     "output_type": "display_data"
    },
    {
     "name": "stdout",
     "output_type": "stream",
     "text": [
      "\n"
     ]
    },
    {
     "data": {
      "application/vnd.plotly.v1+json": {
       "config": {
        "plotlyServerURL": "https://plot.ly"
       },
       "data": [
        {
         "mode": "lines",
         "type": "scatter",
         "x": {
          "bdata": "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",
          "dtype": "f8"
         },
         "y": {
          "bdata": "AAAAAAAAAAAAAAAAAAAAAAAAAAAAAAAAAAAAAAAAAAAAAAAAAAAAAAAAAAAAAAAAAAAAAAAAAAAAAAAAAAAAAAAAAAAAAAAAAAAAAAAAAAAAAAAAAAAAAAAAAAAAAAAAAAAAAAAAAAAAAAAAAAAAAAAAAAAAAAAAAAAAAAAAAAAAAAAAAAAAAAAAAAAAAAAAAAAAAAAAAAAAAAAAAAAAAAAAAAAAAAAAAAAAAAAAAAAAAAAAAAAAAAAAAAAAAAAAAAAAAAAAAAAAAAAAAAAAAAAAAAAAAAAAAAAAAAAAAAAAAAAAAAAAAAAAAAAAAAAAAAAAAAAAAAAAAAAAAAAAAAAAAAAAAAAAAAAAAAAAAAAAAAAAAAAAAAAAAAAAAAAAAAAAAAAAAAAAAAAAAAAAAAAAAAAAAAAAAAAAAAAAAAAAAAAAAAAAAAAAAAAAAAAAAAAAAAAAAAAAAAAAAAAAAAAAAAAAAAAAAAAAAAAAAAAAAAAAAAAAAAAAAAAAAAAAAAAAAAAAAAAAAAAAAAAAAAAAAAAAAAAAAAAAAAAAAAAAAAAAAAAAAAAAAAAAAAAAAAAAAAAAAAAAAAAAAAAAAAAAAAAAAAAAAAAAAAAAAAAAAAAAAAAAAAAAAAAAAAAAAAAAAAAAAAAAAAAAAAAAAAAAAAAAAAAAAAAAAAAAAAAAAAAAAAAAAAAAAAAAAAAAAAAAAAAAAAAAAAAAAAAAAAAAAAAAAAAAAAAAAAAAAAAAAAAAAAAAAAAAAAAAAAAAAAAAAAAAAAAAAAAAAAAAAAAAAAAAAAAAAAAAAAAAAAAAAAAAAAAAAAAAAAAAAAAAAAAAAAAAAAAAAAAAAAAAAAAAAAAAAAAAAAAAAAAAAAAAAAAAAAAAAAAAAAAAAAAAAAAAAAAAAAAAAAAAAAAAAAAAAAAAAAAAAAAAAAAAAAAAAAAAAAAAAAAAAAAAAAAAAAAAAAAAAAAAAAAAAAAAAAAAAAAAAAAAAAAAAAAAAAAAAAAAAAAAAAAAAAAAAAAAAAAAAAAAAAAAAAAAAAAAAAAAAAAAAAAAAAAAAAAAAAAAAAAAAAAAAAAAAAAAAAAAAAAAAAAAAAAAAAAAAAAAAAAAAAAAAAAAAAAAAAAAAAAAAAAAAAAAAAAAAAAAAAAAAAAAAAAAAAAAAAAAAAAAAAAAAAAAAAAAAAAAAAAAAAAAAAAAAAAAAAAAAAAAAAAAAAAAAAAAAAAAAAAAAAAAAAAAAAAAAAAAAAAAAAAAAAAAAAAAAAAAAAAAAAAAAAAAAAAAAAAAAAAAAAAAAAAAAAAAAAAAAAAAAAAAAAAAAAAAAAAAAAAAAAAAAAAAAAAAAAAAAAAAAAAAAAAAAAAAAAAAAAAAAAAAAAAAAAAAAAAAAAAAAAAAAAAAAAAAAAAAAAAAAAAAAAAAAAAAAAAAAAAAAAAAAAAAAAAAAAAAAAAAAAAAAAAAAAAAAAAAAAAAAAAAAAAAAAAAAAAAAAAAAAAAAAAAAAAAAAAAAAAAAAAAAAAAAAAAAAAAAAAAAAAAAAAAAAAAAAAAAAAAAAAAAAAAAAAAAAAAAAAAAAAAAAAAAAAAAAAAAAAAAAAAAAAAAAAAAAAAAAAAAAAAAAAAAAAAAAAAAAAAAAAAAAAAAAAAAAAAAAAAAAAAAAAAAAAAAAAAAAAAAAAAAAAAAAAAAAAAAAAAAAAAAAAAAAAAAAAAAAAAAAAAAAAAAAAAAAAAAAAAAAAAAAAAAAAAAAAAAAAAAAAAAAAAAAAAAAAAAAAAAAAAAAAAAAAAAAAAAAAAAAAAAAAAAAAAAAAAAAAAAAAAAAAAAAAAAAAAAAAAAAAAAAAAAAAAAAAAAAAAAAAAAAAAAAAAAAAAAAAAAAAAAAAAAAAAAAAAAAAAAAAAAAAAAAAAAAAAAAAAAAAAAAAAAAAAAAAAAAAAAAAAAAAAAAAAAAAAAAAAAAAAAAAAAAAAAAAAAAAAAAAAAAAAAAAAAAAAAAAAAAAAAAAAAAAAAAAAAAAAAAAAAAAAAAAAAAAAAAAAAAAAAAAAAAAAAAAAAAAAAAAAAAAAAAAAAAAAAAAAAAAAAAAAAAAAAAAAAAAAAAAAAAAAAAAAAAAAAAAAAAAAAAAAAAAAAAAAAAAAAAAAAAAAAAAAAAAAAAAAAAAAAAAAAAAAAAAAAAAAAAAAAAAAAAAAAAAAAAAAAAAAAAAAAAAAAAAAAAAAAAAAAAAAAAAAAAAAAAAAAAAAAAAAAAAAAAAAAAAAAAAAAAAAAAAAAAAAAAAAAAAAAAAAAAAAAAAAAAAAAAAAAAAAAAAAAAAAAAAAAAAAAAAAAAAAAAAAAAAAAAAAAAAAAAAAAAAAAAAAAAAAAAAAAAAAAAAAAAAAAAAAAAAAAAAAAAAAAAAAAAAAAAAAAAAAAAAAAAAAAAAAAAAAAAAAAAAAAAAAAAAAAAAAAAAAAAAAAAAAAAAAAAAAAAAAAAAAAAAAAAAAAAAAAAAAAAAAAAAAAAAAAAAAAAAAAAAAAAAAAAAAAAAAAAAAAAAAAAAAAAAAAAAAAAAAAAAAAAAAAAAAAAAAAAAAAAAAAAAAAAAAAAAAAAAAAAAAAAAAAAAAAAAAAAAAAAAAAAAAAAAAAAAAAAAAAAAAAAAAAAAAAAAAAAAAAAAAAAAAAAAAAAAAAAAAAAAAAAAAAAAAAAAAAAAAAAAAAAAAAAAAAAAAAAAAAAAAAAAAAAAAAAAAAAAAAAAAAAAAAAAAAAAAAAAAAAAAAAAAAAAAAAAAAAAAAAAAAAAAAAAAAAAAAAAAAAAAAAAAAAAAAAAAAAAAAAAAAAAAAAAAAAAAAAAAAAAAAAAAAAAAAAAAAAAAAAAAAAAAAAAAAAAAAAAAAAAAAAAAAAAAAAAAAAAAAAAAAAAAAAAAAAAAAAAAAAAAAAAAAAAAAAAAAAAAAAAAAAAAAAAAAAAAAAAAAAAAAAAAAAAAAAAAAAAAAAAAAAAAAAAAAAAAAAAAAAAAAAAAAAAAAAAAAAAAAAAAAAAAAAAAAAAAAAAAAAAAAAAAAAAAAAAAAAAAAAAAAAAAAAAAAAAAAAAAAAAAAAAAAAAAAAAAAAAAAAAAAAAAAAAAAAAAAAAAAAAAAAAAAAAAAAAAAAAAAAAAAAAAAAAAAAAAAAAAAAAAAAAAAAAAAAAAAAAAAAAAAAAAAAAAAAAAAAAAAAAAAAAAAAAAAAAAAAAAAAAAAAAAAAAAAAAAAAAAAAAAAAAAAAAAAAAAAAAAAAAAAAAAAAAAAAAAAAAAAAAAAAAAAAAAAAAAAAAAAAAAAAAAAAAAAAAAAAAAAAAAAAAAAAAAAAAAAAAAAAAAAAAAAAAAAAAAAAAAAAAAAAAAAAAAAAAAAAAAAAAAAAAAAAAAAAAAAAAAAAAAAAAAAAAAAAAAAAAAAAAAAAAAAAAAAAAAAAAAAAAAAAAAAAAAAAAAAAAAAAAAAAAAAAAAAAAAAAAAAAAAAAAAAAAAAAAAAAAAAAAAAAAAAAAAAAAAAAAAAAAAAAAAAAAAAAAAAAAAAAAAAAAAAAAAAAAAAAAAAAAAAAAAAAAAAAAAAAAAAAAAAAAAAAAAAAAAAAAAAAAAAAAAAAAAAAAAAAAAAAAAAAAAAAAAAAAAAAAAAAAAAAAAAAAAAAAAAAAAAAAAAAAAAAAAAAAAAAAAAAAAAAAAAAAAAAAAAAAAAAAAAAAAAAAAAAAAAAAAAAAAAAAAAAAAAAAAAAAAAAAAAAAAAAAAAAAAAAAAAAAAAAAAAAAAAAAAAAAAAAAAAAAAAAAAAAAAAAAAAAAAAAAAAAAAAAAAAAAAAAAAAAAAAAAAAADUDEk6i34mP/1OnkjW6FE/eni/OuhEWj9Zu3xEXA9jP7PXyKhM7Wg//VW6nsu6bj/3tjnGLDtyP2stTJs4D3U/bt3ACMTYdz/HNFZLB5d6P31GME84SX0/Qdiy3orufz8jK61pGEOBP2fuPSSth4I/cDXy55rEgz9TPxpUePmEP/0Se3rbJYY/j8wi/FlJhz9gQgAniWOIPzJLLhT+c4k/lirmxk16ij+vgQ5MDXaLPyvKUtrRZow/X+W58jBMjT/8xqqBwCWOP+bTTwAX844/Vy9Jlsuzjz/jpM8duzOQPzOxcO3XhpA/QkezOQnTkD9Jr8ydHBiRPwGToGHgVZE/Ja/ciiOMkT+uDQDutbqRP6sQSj9o4ZE/PBuEIwwAkj8DDKJAdBaSPzuLK050JJI/lN1sJeEpkj+nwGHRkCaSPwHtVZ5aGpI/GTkvKRcFkj9YSmBuoOaRP+PzddjRvpE/epA8ToiNkT+JqXRAolKRP3K6Ebf/DZE/l075XYK/kD/RdEORDWeQP6zx7miGBJA/fYEUiKcvjz/6CZOmvEGOP8I8DEYhP40/6y5FSa4njD/hT6RuQPuKPycVemC4uYk/Fk4ExPpiiD9HIyNH8PaGPwuivqyFdYU/20zZ16vegz/a7UzVVzKCP5wzMuSCcIA/qV7m+VQyfT/ePgmuoFh5P7Urntr0U3U/8jeIAmYkcT/0+pFyIpRpP1uY7kc4imA/MIbkHnfrUj8AAAAAAAAAAAAAAAAAAAAAAAAAAAAAAAAAAAAAAAAAAAAAAAAAAAAAAAAAAAAAAAAAAAAAAAAAAAAAAAAAAAAAAAAAAAAAAAAAAAAAAAAAAAAAAAAAAAAAAAAAAAAAAAAAAAAAAAAAAAAAAAAAAAAAAAAAAAAAAAAAAAAAAAAAAAAAAAAAAAAAAAAAAAAAAAAAAAAAAAAAAAAAAAAAAAAAAAAAAAAAAAAAAAAAAAAAAAAAAAAAAAAAAAAAAAAAAAAAAAAAAAAAAAAAAAAAAAAAAAAAAAAAAAAAAAAAAAAAAAAAAAAAAAAAAAAAAAAAAAAAAAAAAAAAAAAAAAAAAAAAAAAAAAAAAAAAAAAAAAAAAAAAAAAAAAAAAAAAAAAAAAAAAAAAAAAAAAAAAAAAAAAAAAAAAAAAAAAAAAAAAAAAAAAAAAAAAAAAAAAAAAAAAAAAAAAAAAAAAAAAAAAAAAAAAAAAAAAAAAAAAAAAAAAAAAAAAAAAAAAAAAAAAAAAAAAAAAAAAAAAAAAAAAAAAAAAAAAAAAAAAAAAAAAAAAAAAAAAAAAAAAAAAAAAAAAAAAAAAAAAAAAAAAAAAAAAAAAAAAAAAAAAAAAAAAAAAAAAAAAAAAAAAAAAAAAAAAAAAAAAAAAAAAAAAAAAAAAAAAAAAAAAAAAAAAAAAAAAAAAAAAAAAAAAAAAAAAAAAAAAAAAAAAAAAAAAAAAAAAAAAAAAAAAAAAAAAAAAAAAAAAAAAAAAAAAAAAAAAAAAAAAAAAAAAAAAAAAAAAAAAAAAAAAAAAAAAAAAAAAAAAAAAAAAAAAAAAAAAAAAAAAAAAAAAAAAAAAAAAAAAAAAAAAAAAAAAAAAAAAAAAAAAAAAAAAAAAAAAAAAAAAAAAAAAAAAAAAAAAAAAAAAAAAAAAAAAAAAAAAAAAAAAAAAAAAAAAAAAAAAAAAAAAAAAAAAAAAAAAAAAAAAAAAAAAAAAAAAAAAAAAAAAAAAAAAAAAAAAAAAAAAAAAAAAAAAAAAAAAAAAAAAAAAAAAAAAAAAAAAAAAAAAAAAAAAAAAAAAAAAAAAAAAAAAAAAAAAAAAAAAAAAAAAAAAAAAAAAAAAAAAAAAAAAAAAAAAAAAAAAAAAAAAAAAAAAAAAAAAAAAAAAAAAAAAAAAAAAAAAAAAAAAAAAAAAAAAAAAAAAAAAAAAAAAAAAAAAAAAAAAAAAAAAAAAAAAAAAAAAAAAAAAAAAAAAAAAAAAAAAAAAAAAAAAAAAAAAAAAAAAAAAAAAAAAAAAAAAAAAAAAAAAAAAAAAAAAAAAAAAAAAAAAAAAAAAAAAAAAAAAAAAAAAAAAAAAAAAAAAAAAAAAAAAAAAAAAAAAAAAAAAAAAAAAAAAAAAAAAAAAAAAAAAAAAAAAAAAAAAAAAAAAAAAAAAAAAAAAAAAAAAAAAAAAAAAAAAAAAAAAAAAAAAAAAAAAAAAAAAAAAAAAAAAAAAAAAAAAAAAAAAAAAAAAAAAAAAAAAAAAAAAAAAAAAAAAAAAAAAAAAAAAAAAAAAAAAAAAAAAAAAAAAAAAAAAAAAAAAAAAAAAAAAAAAAAAAAAAAAAAAAAAAAAAAAAAAAAAAAAAAAAAAAAAAAAAAAAAAAAAAAAAAAAAAAAAAAAAAAAAAAAAAAAAAAAAAAAAAAAAAAAAAAAAAAAAAAAAAAAAAAAAAAAAAAAAAAAAAAAAAAAAAAAAAAAAAAAAAAAAAAAAAAAAAAAAAAAAAAAAAAAAAAAAAAAAAAAAAAAAAAAAAAAAAAAAAAAAAAAAAAAAAAAAAAAAAAAAAAAAAAAAAAAAAAAAAAAAAAAAAAAAAAAAAAAAAAAAAAAAAAAAAAAAAAAAAAAAAAAAAAAAAAAAAAAAAAAAAAAAAAAAAAAAAAAAAAAAAAAAAAAAAAAAAAAAAAAAAAAAAAAAAAAAAAAAAAAAAAAAAAAAAAAAAAAAAAAAAAAAAAAAAAAAAAAAAAAAAAAAAAAAAAAAAAAAAAAAAAAAAAAAAAAAAAAAAAAAAAAAAAAAAAAAAAAAAAAAAAAAAAAAAAAAAAAAAAAAAAAAAAAAAAAAAAAAAAAAAAAAAAAAAAAAAAAAAAAAAAAAAAAAAAAAAAAAAAAAAAAAAAAAAAAAAAAAAAAAAAAAAAAAAAAAAAAAAAAAAAAAAAAAAAAAAAAAAAAAAAAAAAAAAAAAAAAAAAAAAAAAAAAAAAAAAAAAAAAAAAAAAAAAAAAAAAAAAAAAAAAAAAAAAAAAAAAAAAAAAAAAAAAAAAAAAAAAAAAAAAAAAAAAAAAAAAAAAAAAAAAAAAAAAAAAAAAAAAAAAAAAAAAAAAAAAAAAAAAAAAAAAAAAAAAAAAAAAAAAAAAAAAAAAAAAAAAAAAAAAAAAAAAAAAAAAAAAAAAAAAAAAAAAAAAAAAAAAAAAAAAAAAAAAAAAAAAAAAAAAAAAAAAAAAAAAAAAAAAAAAAAAAAAAAAAAAAAAAAAAAAAAAAAAAAAAAAAAAAAAAAAAAAAAAAAAAAAAAAAAAAAAAAAAAAAAAAAAAAAAAAAAAAAAAAAAAAAAAAAAAAAAAAAAAAAAAAAAAAAAAAAAAAAAAAAAAAAAAAAAAAAAAAAAAAAAAAAAAAAAAAAAAAAAAAAAAAAAAAAAAAAAAAAAAAAAAAAAAAAAAAAAAAAAAAAAAAAAAAAAAAAAAAAAAAAAAAAAAAAAAAAAAAAAAAAAAAAAAAAAAAAAAAAAAAAAAAAAAAAAAAAAAAAAAAAAAAAAAAAAAAAAAAAAAAAAAAAAAAAAAAAAAAAAAAAAAAAAAAAAAAAAAAAAAAAAAAAAAAAAAAAAAAAAAAAAAAAAAAAAAAAAAAAAAAAAAAAAAAAAAAAAAAAAAAAAAAAAAAAAAAAAAAAAAAAAAAAAAAAAAAAAAAAAAAAAAAAAAAAAAAAAAAAAAAAAAAAAAAAAAAAAAAAAAAAAAAAAAAAAAAAAAAAAAAAAAAAAAAAAAAAAAAAAAAAAAAAAAAAAAAAAAAAAAAAAAAAAAAAAAAAAAAAAAAAAAAAAAAAAAAAAAAAAAAAAAAAAAAAAAAAAAAAAAAAAAAAAAAAAAAAAAAAAAAAAAAAAAAAAAAAAAAAAAAAAAAAAAAAAAAAAAAAAAAAAAAAAAAAAAAAAAAAAAAAAAAAAAAAAAAAAAAAAAAAAAAAAAAAAAAAAAAAAAAAAAAAAAAAAAAAAAAAAAAAAAAAAAAAAAAAAAAAAAAAAAAAAAAAAAAAAAAAAAAAAAAAAAAAAAAAAAAAAAAAAAAAAAAAAAAAAAAAAAAAAAAAAAAAAAAAAAAAAAAAAAAAAAAAAAAAAAAAAAAAAAAAAAAAAAAAAAAAAAAAAAAAAAAAAAAAAAAAAAAAAAAAAAAAAAAAAAAAAAAAAAAAAAAAAAAAAAAAAAAAAAAAAAAAAAAAAAAAAAAAAAAAAAAAAAAAAAAAAAAAAAAAAAAAAAAAAAAAAAAAAAAAAAAAAAAAAAAAAAAAAAAAAAAAAAAAAAAAAAAAAAAAAAAAAAAAAAAAAAAAAAAAAAAAAAAAAAAAAAAAAAAAAAAAAAAAAAAAAAAAAAAAAAAAAAAAAAAAAAAAAAAAAAAAAAAAAAAAAAAAAAAAAAAAAAAAAAAAAAAAAAAAAAAAAAAAAAAAAAAAAAAAAAAAAAAAAAAAAAAAAAAAAAAAAAAAAAAAAAAAAAAAAAAAAAAAAAAAAAAAAAAAAAAAAAAAAAAAAAAAAAAAAAAAAAAAAAAAAAAAAAAAAAAAAAAAAAAAAAAAAAAAAAAAAAAAAAAAAAAAAAAAAAAAAAAAAAAAAAAAAAAAAAAAAAAAAAAAAAAAAAAAAAAAAAAAAAAAAAAAAAAAAAAAAAAAAAAAAAAAAAAAAAAAAAAAAAAAAAAAAAAAAAAAAAAAAAAAAAAAAAAAAAAAAAAAAAAAAAAAAAAAAAAAAAAAAAAAAAAAAAAAAAAAAAAAAAAAAAAAAAAAAAAAAAAAAAAAAAAAAAAAAAAAAAAAAAAAAAAAAAAAAAAAAAAAAAAAAAAAAAAAAAAAAAAAAAAAAAAAAAAAAAAAAAAAAAAAAAAAAAAAAAAAAAAAAAAAAAAAAAAAAAAAAAAAAAAAAAAAAAAAAAAAAAAAAAAAAAAAAAAAAAAAAAAAAAAAAAAAAAAAAAAAAAAAAAAAAAAAAAAAAAAAAAAAAAAAAAAAAAAAAAAAAAAAAAAAAAAAAAAAAAAAAAAAAAAAAAAAAAAAAAAAAAAAAAAAAAAAAAAAAAAAAAAAAAAAAAAAAAAAAAAAAAAAAAAAAAAAAAAAAAAAAAAAAAAAAAAAAAAAAAAAAAAAAAAAAAAAAAAAAAAAAAAAAAAAAAAAAAAAAAAAAAAAAAAAAAAAAAAAAAAAAAAAAAAAAAAAAAAAAAAAAAAAAAAAAAAAAAAAAAAAAAAAAAAAAAAAAAAAAAAAAAAAAAAAAAAAAAAAAAAAAAAAAAAAAAAAAAAAAAAAAAAAAAAAAAAAAAAAAAAAAAAAAAAAAAAAAAAAAAAAAAAAAAAAAAAAAAAAAAAAAAAAAAAAAAAAAAAAAAAAAAAAAAAAAAAAAAAAAAAAAAAAAAAAAAAAAAAAAAAAAAAAAAAAAAAAAAAAAAAAAAAAAAAAAAAAAAAAAAAAAAAAAAAAAAAAAAAAAAAAAAAAAAAAAAAAAAAAAAAAAAAAAAAAAAAAAAAAAAAAAAAAAAAAAAAAAAAAAAAAAAAAAAAAAAAAAAAAAAAAAAAAAAAAAAAAAAAAAAAAAAAAAAAAAAAAAAAAAAAAAAAAAAAAAAAAAAAAAAAAAAAAAAAAAAAAAAAAAAAAAAAAAAAAAAAAAAAAAAAAAAAAAAAAAAAAAAAAAAAAAAAAAAAAAAAAAAAAAAAAAAAAAAAAAAAAAAAAAAAAAAAAAAAAAAAAAAAAAAAAAAAAAAAAAAAAAAAAAAAAAAAAAAAAAAAAAAAAAAAAAAAAAAAAAAAAAAAAAAAAAAAAAAAAAAAAAAAAAAAAAAAAAAAAAAAAAAAAAAAAAAAAAAAAAAAAAAAAAAAAAAAAAAAAAAAAAAAAAAAAAAAAAAAAAAAAAAAAAAAAAAAAAAAAAAAAAAAAAAAAAAAAAAAAAAAAAAAAAAAAAAAAAAAAAAAAAAAAAAAAAAAAAAAAAAAAAAAAAAAAAAAAAAAAAAAAAAAAAAAAAAAAAAAAAAAAAAAAAAAAAAAAAAAAAAAAAAAAAAAAAAAAAAAAAAAAAAAAAAAAAAAAAAAAAAAAAAAAAAAAAAAAAAAAAAAAAAAAAAAAAAAAAAAAAAAAAAAAAAAAAAAAAAAAAAAAAAAAAAAAAAAAAAAAAAAAAAAAAAAAAAAAAAAAAAAAAAAAAAAAAAAAAAAAAAAAAAAAAAAAAAAAAAAAAAAAAAAAAAAAAAAAAAAAAAAAAAAAAAAAAAAAAAAAAAAAAAAAAAAAAAAAAAAAAAAAAAAAAAAAAAAAAAAAAAAAAAAAAAAAAAAAAAAAAAAAAAAAAAAAAAAAAAAAAAAAAAAAAAAAAAAAAAAAAAAAAAAAAAAAAAAAAAAAAAAAAAAAAAAAAAAAAAAAAAAAAAAAAAAAAAAAAAAAAAAAAAAAAAAAAAAAAAAAAAAAAAAAAAAAAAAAAAAAAAAAAAAAAAAAAAAAAAAAAAAAAAAAAAAAAAAAAAAAAAAAAAAAAAAAAAAAAAAAAAAAAAAAAAAAAAAAAAAAAAAAAAAAAAAAAAAAAAAAAAAAAAAAAAAAAAAAAAAAAAAAAAAAAAAAAAAAAAAAAAAAAAAAAAAAAAAAAAAAAAAAAAAAAAAAAAAAAAAAAAAAAAAAAAAAAAAAAAAAAAAAAAAAAAAAAAAAAAAAAAAAAAAAAAAAAAAAAAAAAAAAAAAAAAAAAAAAAAAAAAAAAAAAAAAAAAAAAAAAAAAAAAAAAAAAAAAAAAAAAAAAAAAAAAAAAAAC8plr6Gxyj4tknT7z1jiPvPBgSoipPI+Lyu2jyf1+z7WFpEJC5ACP6Q434zEEgc/hJoIyAyDCz/0Kfb6LuEPP/vb5pm6FhI/ScXWKRQ0FD8xZdAJyEgWP6EGlYT5VBg/lB4hVctYGj/oQKmpX1QcP684NiXYRx4/t5ri8KoZID8=",
          "dtype": "f8"
         }
        }
       ],
       "layout": {
        "height": 500,
        "template": {
         "data": {
          "bar": [
           {
            "error_x": {
             "color": "rgb(36,36,36)"
            },
            "error_y": {
             "color": "rgb(36,36,36)"
            },
            "marker": {
             "line": {
              "color": "white",
              "width": 0.5
             },
             "pattern": {
              "fillmode": "overlay",
              "size": 10,
              "solidity": 0.2
             }
            },
            "type": "bar"
           }
          ],
          "barpolar": [
           {
            "marker": {
             "line": {
              "color": "white",
              "width": 0.5
             },
             "pattern": {
              "fillmode": "overlay",
              "size": 10,
              "solidity": 0.2
             }
            },
            "type": "barpolar"
           }
          ],
          "carpet": [
           {
            "aaxis": {
             "endlinecolor": "rgb(36,36,36)",
             "gridcolor": "white",
             "linecolor": "white",
             "minorgridcolor": "white",
             "startlinecolor": "rgb(36,36,36)"
            },
            "baxis": {
             "endlinecolor": "rgb(36,36,36)",
             "gridcolor": "white",
             "linecolor": "white",
             "minorgridcolor": "white",
             "startlinecolor": "rgb(36,36,36)"
            },
            "type": "carpet"
           }
          ],
          "choropleth": [
           {
            "colorbar": {
             "outlinewidth": 1,
             "tickcolor": "rgb(36,36,36)",
             "ticks": "outside"
            },
            "type": "choropleth"
           }
          ],
          "contour": [
           {
            "colorbar": {
             "outlinewidth": 1,
             "tickcolor": "rgb(36,36,36)",
             "ticks": "outside"
            },
            "colorscale": [
             [
              0,
              "#440154"
             ],
             [
              0.1111111111111111,
              "#482878"
             ],
             [
              0.2222222222222222,
              "#3e4989"
             ],
             [
              0.3333333333333333,
              "#31688e"
             ],
             [
              0.4444444444444444,
              "#26828e"
             ],
             [
              0.5555555555555556,
              "#1f9e89"
             ],
             [
              0.6666666666666666,
              "#35b779"
             ],
             [
              0.7777777777777778,
              "#6ece58"
             ],
             [
              0.8888888888888888,
              "#b5de2b"
             ],
             [
              1,
              "#fde725"
             ]
            ],
            "type": "contour"
           }
          ],
          "contourcarpet": [
           {
            "colorbar": {
             "outlinewidth": 1,
             "tickcolor": "rgb(36,36,36)",
             "ticks": "outside"
            },
            "type": "contourcarpet"
           }
          ],
          "heatmap": [
           {
            "colorbar": {
             "outlinewidth": 1,
             "tickcolor": "rgb(36,36,36)",
             "ticks": "outside"
            },
            "colorscale": [
             [
              0,
              "#440154"
             ],
             [
              0.1111111111111111,
              "#482878"
             ],
             [
              0.2222222222222222,
              "#3e4989"
             ],
             [
              0.3333333333333333,
              "#31688e"
             ],
             [
              0.4444444444444444,
              "#26828e"
             ],
             [
              0.5555555555555556,
              "#1f9e89"
             ],
             [
              0.6666666666666666,
              "#35b779"
             ],
             [
              0.7777777777777778,
              "#6ece58"
             ],
             [
              0.8888888888888888,
              "#b5de2b"
             ],
             [
              1,
              "#fde725"
             ]
            ],
            "type": "heatmap"
           }
          ],
          "histogram": [
           {
            "marker": {
             "line": {
              "color": "white",
              "width": 0.6
             }
            },
            "type": "histogram"
           }
          ],
          "histogram2d": [
           {
            "colorbar": {
             "outlinewidth": 1,
             "tickcolor": "rgb(36,36,36)",
             "ticks": "outside"
            },
            "colorscale": [
             [
              0,
              "#440154"
             ],
             [
              0.1111111111111111,
              "#482878"
             ],
             [
              0.2222222222222222,
              "#3e4989"
             ],
             [
              0.3333333333333333,
              "#31688e"
             ],
             [
              0.4444444444444444,
              "#26828e"
             ],
             [
              0.5555555555555556,
              "#1f9e89"
             ],
             [
              0.6666666666666666,
              "#35b779"
             ],
             [
              0.7777777777777778,
              "#6ece58"
             ],
             [
              0.8888888888888888,
              "#b5de2b"
             ],
             [
              1,
              "#fde725"
             ]
            ],
            "type": "histogram2d"
           }
          ],
          "histogram2dcontour": [
           {
            "colorbar": {
             "outlinewidth": 1,
             "tickcolor": "rgb(36,36,36)",
             "ticks": "outside"
            },
            "colorscale": [
             [
              0,
              "#440154"
             ],
             [
              0.1111111111111111,
              "#482878"
             ],
             [
              0.2222222222222222,
              "#3e4989"
             ],
             [
              0.3333333333333333,
              "#31688e"
             ],
             [
              0.4444444444444444,
              "#26828e"
             ],
             [
              0.5555555555555556,
              "#1f9e89"
             ],
             [
              0.6666666666666666,
              "#35b779"
             ],
             [
              0.7777777777777778,
              "#6ece58"
             ],
             [
              0.8888888888888888,
              "#b5de2b"
             ],
             [
              1,
              "#fde725"
             ]
            ],
            "type": "histogram2dcontour"
           }
          ],
          "mesh3d": [
           {
            "colorbar": {
             "outlinewidth": 1,
             "tickcolor": "rgb(36,36,36)",
             "ticks": "outside"
            },
            "type": "mesh3d"
           }
          ],
          "parcoords": [
           {
            "line": {
             "colorbar": {
              "outlinewidth": 1,
              "tickcolor": "rgb(36,36,36)",
              "ticks": "outside"
             }
            },
            "type": "parcoords"
           }
          ],
          "pie": [
           {
            "automargin": true,
            "type": "pie"
           }
          ],
          "scatter": [
           {
            "fillpattern": {
             "fillmode": "overlay",
             "size": 10,
             "solidity": 0.2
            },
            "type": "scatter"
           }
          ],
          "scatter3d": [
           {
            "line": {
             "colorbar": {
              "outlinewidth": 1,
              "tickcolor": "rgb(36,36,36)",
              "ticks": "outside"
             }
            },
            "marker": {
             "colorbar": {
              "outlinewidth": 1,
              "tickcolor": "rgb(36,36,36)",
              "ticks": "outside"
             }
            },
            "type": "scatter3d"
           }
          ],
          "scattercarpet": [
           {
            "marker": {
             "colorbar": {
              "outlinewidth": 1,
              "tickcolor": "rgb(36,36,36)",
              "ticks": "outside"
             }
            },
            "type": "scattercarpet"
           }
          ],
          "scattergeo": [
           {
            "marker": {
             "colorbar": {
              "outlinewidth": 1,
              "tickcolor": "rgb(36,36,36)",
              "ticks": "outside"
             }
            },
            "type": "scattergeo"
           }
          ],
          "scattergl": [
           {
            "marker": {
             "colorbar": {
              "outlinewidth": 1,
              "tickcolor": "rgb(36,36,36)",
              "ticks": "outside"
             }
            },
            "type": "scattergl"
           }
          ],
          "scattermap": [
           {
            "marker": {
             "colorbar": {
              "outlinewidth": 1,
              "tickcolor": "rgb(36,36,36)",
              "ticks": "outside"
             }
            },
            "type": "scattermap"
           }
          ],
          "scattermapbox": [
           {
            "marker": {
             "colorbar": {
              "outlinewidth": 1,
              "tickcolor": "rgb(36,36,36)",
              "ticks": "outside"
             }
            },
            "type": "scattermapbox"
           }
          ],
          "scatterpolar": [
           {
            "marker": {
             "colorbar": {
              "outlinewidth": 1,
              "tickcolor": "rgb(36,36,36)",
              "ticks": "outside"
             }
            },
            "type": "scatterpolar"
           }
          ],
          "scatterpolargl": [
           {
            "marker": {
             "colorbar": {
              "outlinewidth": 1,
              "tickcolor": "rgb(36,36,36)",
              "ticks": "outside"
             }
            },
            "type": "scatterpolargl"
           }
          ],
          "scatterternary": [
           {
            "marker": {
             "colorbar": {
              "outlinewidth": 1,
              "tickcolor": "rgb(36,36,36)",
              "ticks": "outside"
             }
            },
            "type": "scatterternary"
           }
          ],
          "surface": [
           {
            "colorbar": {
             "outlinewidth": 1,
             "tickcolor": "rgb(36,36,36)",
             "ticks": "outside"
            },
            "colorscale": [
             [
              0,
              "#440154"
             ],
             [
              0.1111111111111111,
              "#482878"
             ],
             [
              0.2222222222222222,
              "#3e4989"
             ],
             [
              0.3333333333333333,
              "#31688e"
             ],
             [
              0.4444444444444444,
              "#26828e"
             ],
             [
              0.5555555555555556,
              "#1f9e89"
             ],
             [
              0.6666666666666666,
              "#35b779"
             ],
             [
              0.7777777777777778,
              "#6ece58"
             ],
             [
              0.8888888888888888,
              "#b5de2b"
             ],
             [
              1,
              "#fde725"
             ]
            ],
            "type": "surface"
           }
          ],
          "table": [
           {
            "cells": {
             "fill": {
              "color": "rgb(237,237,237)"
             },
             "line": {
              "color": "white"
             }
            },
            "header": {
             "fill": {
              "color": "rgb(217,217,217)"
             },
             "line": {
              "color": "white"
             }
            },
            "type": "table"
           }
          ]
         },
         "layout": {
          "annotationdefaults": {
           "arrowhead": 0,
           "arrowwidth": 1
          },
          "autotypenumbers": "strict",
          "coloraxis": {
           "colorbar": {
            "outlinewidth": 1,
            "tickcolor": "rgb(36,36,36)",
            "ticks": "outside"
           }
          },
          "colorscale": {
           "diverging": [
            [
             0,
             "rgb(103,0,31)"
            ],
            [
             0.1,
             "rgb(178,24,43)"
            ],
            [
             0.2,
             "rgb(214,96,77)"
            ],
            [
             0.3,
             "rgb(244,165,130)"
            ],
            [
             0.4,
             "rgb(253,219,199)"
            ],
            [
             0.5,
             "rgb(247,247,247)"
            ],
            [
             0.6,
             "rgb(209,229,240)"
            ],
            [
             0.7,
             "rgb(146,197,222)"
            ],
            [
             0.8,
             "rgb(67,147,195)"
            ],
            [
             0.9,
             "rgb(33,102,172)"
            ],
            [
             1,
             "rgb(5,48,97)"
            ]
           ],
           "sequential": [
            [
             0,
             "#440154"
            ],
            [
             0.1111111111111111,
             "#482878"
            ],
            [
             0.2222222222222222,
             "#3e4989"
            ],
            [
             0.3333333333333333,
             "#31688e"
            ],
            [
             0.4444444444444444,
             "#26828e"
            ],
            [
             0.5555555555555556,
             "#1f9e89"
            ],
            [
             0.6666666666666666,
             "#35b779"
            ],
            [
             0.7777777777777778,
             "#6ece58"
            ],
            [
             0.8888888888888888,
             "#b5de2b"
            ],
            [
             1,
             "#fde725"
            ]
           ],
           "sequentialminus": [
            [
             0,
             "#440154"
            ],
            [
             0.1111111111111111,
             "#482878"
            ],
            [
             0.2222222222222222,
             "#3e4989"
            ],
            [
             0.3333333333333333,
             "#31688e"
            ],
            [
             0.4444444444444444,
             "#26828e"
            ],
            [
             0.5555555555555556,
             "#1f9e89"
            ],
            [
             0.6666666666666666,
             "#35b779"
            ],
            [
             0.7777777777777778,
             "#6ece58"
            ],
            [
             0.8888888888888888,
             "#b5de2b"
            ],
            [
             1,
             "#fde725"
            ]
           ]
          },
          "colorway": [
           "#1F77B4",
           "#FF7F0E",
           "#2CA02C",
           "#D62728",
           "#9467BD",
           "#8C564B",
           "#E377C2",
           "#7F7F7F",
           "#BCBD22",
           "#17BECF"
          ],
          "font": {
           "color": "rgb(36,36,36)"
          },
          "geo": {
           "bgcolor": "white",
           "lakecolor": "white",
           "landcolor": "white",
           "showlakes": true,
           "showland": true,
           "subunitcolor": "white"
          },
          "height": 400,
          "hoverlabel": {
           "align": "left"
          },
          "hovermode": "closest",
          "mapbox": {
           "style": "light"
          },
          "paper_bgcolor": "white",
          "plot_bgcolor": "white",
          "polar": {
           "angularaxis": {
            "gridcolor": "rgb(232,232,232)",
            "linecolor": "rgb(36,36,36)",
            "showgrid": false,
            "showline": true,
            "ticks": "outside"
           },
           "bgcolor": "white",
           "radialaxis": {
            "gridcolor": "rgb(232,232,232)",
            "linecolor": "rgb(36,36,36)",
            "showgrid": false,
            "showline": true,
            "ticks": "outside"
           }
          },
          "scene": {
           "xaxis": {
            "backgroundcolor": "white",
            "gridcolor": "rgb(232,232,232)",
            "gridwidth": 2,
            "linecolor": "rgb(36,36,36)",
            "showbackground": true,
            "showgrid": false,
            "showline": true,
            "ticks": "outside",
            "zeroline": false,
            "zerolinecolor": "rgb(36,36,36)"
           },
           "yaxis": {
            "backgroundcolor": "white",
            "gridcolor": "rgb(232,232,232)",
            "gridwidth": 2,
            "linecolor": "rgb(36,36,36)",
            "showbackground": true,
            "showgrid": false,
            "showline": true,
            "ticks": "outside",
            "zeroline": false,
            "zerolinecolor": "rgb(36,36,36)"
           },
           "zaxis": {
            "backgroundcolor": "white",
            "gridcolor": "rgb(232,232,232)",
            "gridwidth": 2,
            "linecolor": "rgb(36,36,36)",
            "showbackground": true,
            "showgrid": false,
            "showline": true,
            "ticks": "outside",
            "zeroline": false,
            "zerolinecolor": "rgb(36,36,36)"
           }
          },
          "shapedefaults": {
           "fillcolor": "black",
           "line": {
            "width": 0
           },
           "opacity": 0.3
          },
          "ternary": {
           "aaxis": {
            "gridcolor": "rgb(232,232,232)",
            "linecolor": "rgb(36,36,36)",
            "showgrid": false,
            "showline": true,
            "ticks": "outside"
           },
           "baxis": {
            "gridcolor": "rgb(232,232,232)",
            "linecolor": "rgb(36,36,36)",
            "showgrid": false,
            "showline": true,
            "ticks": "outside"
           },
           "bgcolor": "white",
           "caxis": {
            "gridcolor": "rgb(232,232,232)",
            "linecolor": "rgb(36,36,36)",
            "showgrid": false,
            "showline": true,
            "ticks": "outside"
           }
          },
          "title": {
           "font": {
            "size": 20
           },
           "x": 0.05
          },
          "width": 400,
          "xaxis": {
           "automargin": true,
           "gridcolor": "rgb(232,232,232)",
           "linecolor": "rgb(36,36,36)",
           "linewidth": 1.5,
           "showgrid": false,
           "showline": true,
           "tickfont": {
            "size": 16
           },
           "ticks": "outside",
           "tickwidth": 1.5,
           "title": {
            "font": {
             "size": 20
            },
            "standoff": 15
           },
           "zeroline": false,
           "zerolinecolor": "rgb(36,36,36)"
          },
          "yaxis": {
           "automargin": true,
           "gridcolor": "rgb(232,232,232)",
           "linecolor": "rgb(36,36,36)",
           "linewidth": 1.5,
           "showgrid": false,
           "showline": true,
           "tickfont": {
            "size": 16
           },
           "ticks": "outside",
           "tickwidth": 1.5,
           "title": {
            "font": {
             "size": 20
            },
            "standoff": 15
           },
           "zeroline": false,
           "zerolinecolor": "rgb(36,36,36)"
          }
         }
        },
        "title": {
         "text": "1D Inverse Laplace Inversion - T2 decay"
        },
        "width": 500,
        "xaxis": {
         "tickformat": ".1e",
         "tickvals": [
          0.000001,
          0.00001,
          0.0001,
          0.001,
          0.01,
          0.1,
          1,
          10
         ],
         "title": {
          "text": "Relaxation times (s)"
         },
         "type": "log"
        },
        "yaxis": {
         "title": {
          "text": "Normalized magnitude"
         }
        }
       }
      }
     },
     "metadata": {},
     "output_type": "display_data"
    },
    {
     "data": {
      "image/png": "[encoded data removed]",
      "text/plain": [
       "<Figure size 1200x600 with 1 Axes>"
      ]
     },
     "metadata": {},
     "output_type": "display_data"
    }
   ],
   "source": [
    "\n",
    "seq = CPMGPSEQ(nScans=4, larmorFreq=10.33358, rfExFA=90, rfReFA=180, rfExTime=30.0, rfReTime=60.0, echoSpacing=0.2, \n",
    "               repetitionTime=3000, nPoints=5, filterWindowSize=5, etl=100, bandwidth=426.666667)\n",
    "\n",
    "print(f\"seq total time: {seq.sequenceTime() * 60 // 60} min {seq.sequenceTime() * 60 % 60} seconds\" )\n",
    "seq.sequenceAtributes()\n",
    "seq.sequenceRun(plotSeq=False, demo=False, standalone=True)\n",
    "seq.sequenceAnalysis(mode='Standalone')\n",
    "\n",
    "\n",
    "display_plot(seq.mapVals['FiltersignalVStime'])"
   ]
  },
  {
   "cell_type": "code",
   "execution_count": null,
   "metadata": {},
   "outputs": [],
   "source": []
  }
 ],
 "metadata": {
  "kernelspec": {
   "display_name": "Python 3",
   "language": "python",
   "name": "python3"
  },
  "language_info": {
   "codemirror_mode": {
    "name": "ipython",
    "version": 3
   },
   "file_extension": ".py",
   "mimetype": "text/x-python",
   "name": "python",
   "nbconvert_exporter": "python",
   "pygments_lexer": "ipython3",
   "version": "3.12.3"
  }
 },
 "nbformat": 4,
 "nbformat_minor": 4
}
